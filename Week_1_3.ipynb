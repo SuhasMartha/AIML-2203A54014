{
  "nbformat": 4,
  "nbformat_minor": 0,
  "metadata": {
    "colab": {
      "provenance": []
    },
    "kernelspec": {
      "name": "python3",
      "display_name": "Python 3"
    },
    "language_info": {
      "name": "python"
    }
  },
  "cells": [
    {
      "cell_type": "code",
      "execution_count": 5,
      "metadata": {
        "colab": {
          "base_uri": "https://localhost:8080/"
        },
        "id": "27IMbVC-DaAT",
        "outputId": "3c831763-1a16-4d30-eba1-e83118c6b393"
      },
      "outputs": [
        {
          "output_type": "stream",
          "name": "stdout",
          "text": [
            "          Table 1 Unnamed: 1  Unnamed: 2 Unnamed: 3\n",
            "0           Name        Age        Ht no      Place\n",
            "1       RajaRohan         19  2203A52126  Huzurabad\n",
            "2  Vamshi krishna         19  2203A52127     Ambala\n",
            "3         Avinash         19  2203A52227   Indurthi\n",
            "4    Gopi krishna         21  2203A52076     Parkal\n",
            "5          Sravan         19  2203A52099   Warangal\n",
            "            Name   Age        Ht no      Place  Unnamed: 4  Unnamed: 5\n",
            "0       RajaRohan    19  2203A52126  Huzurabad         NaN         NaN\n",
            "1  Vamshi krishna    19  2203A52127     Ambala         NaN         NaN\n",
            "2         Avinash    19  2203A52227   Indurthi         NaN         NaN\n",
            "3    Gopi krishna    21  2203A52076     Parkal         NaN         NaN\n",
            "4          Sravan    19  2203A52099   Warangal         NaN         NaN\n",
            "            Name   Age        Ht no      Place  Unnamed: 4  Unnamed: 5\n",
            "0       RajaRohan    19  2203A52126  Huzurabad         NaN         NaN\n",
            "1  Vamshi krishna    19  2203A52127     Ambala         NaN         NaN\n",
            "2         Avinash    19  2203A52227   Indurthi         NaN         NaN\n",
            "3    Gopi krishna    21  2203A52076     Parkal         NaN         NaN\n",
            "4          Sravan    19  2203A52099   Warangal         NaN         NaN\n"
          ]
        }
      ],
      "source": [
        "import pandas as pd\n",
        "\n",
        "# Read Excel file\n",
        "data_excel = pd.read_excel('/content/haha3.xlsx')\n",
        "# Read CSV file\n",
        "data_csv = pd.read_csv('/content/haha.csv')\n",
        "# Read TSV file (Tab-separated values)\n",
        "data_tsv = pd.read_csv('/content/haha2.tsv', sep='\\t')\n",
        "print(data_excel)\n",
        "print(data_csv)\n",
        "print(data_tsv)"
      ]
    }
  ]
}