{
  "nbformat": 4,
  "nbformat_minor": 0,
  "metadata": {
    "colab": {
      "provenance": []
    },
    "kernelspec": {
      "name": "python3",
      "display_name": "Python 3"
    },
    "language_info": {
      "name": "python"
    }
  },
  "cells": [
    {
      "cell_type": "code",
      "execution_count": 1,
      "metadata": {
        "colab": {
          "base_uri": "https://localhost:8080/"
        },
        "id": "Jb8w38ca3MOz",
        "outputId": "676d80d2-212b-48bc-d81d-e3bb55461df2"
      },
      "outputs": [
        {
          "output_type": "stream",
          "name": "stdout",
          "text": [
            "Type of list1: <class 'list'>\n",
            "Type of list2: <class 'list'>\n",
            "Type of array1: <class 'numpy.ndarray'>\n",
            "Type of array2: <class 'numpy.ndarray'>\n",
            "Multiplication result: [ 6 14 24 36 50]\n",
            "Division result: [6.         3.5        2.66666667 2.25       2.        ]\n",
            "Power result: [ 1  4  9 16 25]\n",
            "Addition of Two arrays: array1 + array2\n",
            "[ 6 14 24 36 50]\n",
            "sin(array1): [ 0.84147098  0.90929743  0.14112001 -0.7568025  -0.95892427]\n",
            "log(array1): [0.         0.69314718 1.09861229 1.38629436 1.60943791]\n",
            "log2(array1): [0.         1.         1.5849625  2.         2.32192809]\n",
            "exp(array1): [  2.71828183   7.3890561   20.08553692  54.59815003 148.4131591 ]\n"
          ]
        }
      ],
      "source": [
        "# Importing necessary libraries\n",
        "import numpy as np\n",
        "\n",
        "# 1 Creating lists\n",
        "list1 = [1, 2, 3, 4, 5]\n",
        "list2 = [6, 7, 8, 9, 10]\n",
        "\n",
        "# 2 Creating arrays using numpy\n",
        "array1 = np.array(list1)\n",
        "array2 = np.array(list2)\n",
        "\n",
        "# 3 Identifying their type\n",
        "print(\"Type of list1:\", type(list1))\n",
        "print(\"Type of list2:\", type(list2))\n",
        "print(\"Type of array1:\", type(array1))\n",
        "print(\"Type of array2:\", type(array2))\n",
        "\n",
        "# 4 Performing mathematical operations\n",
        "result_multiply = array1 * array2\n",
        "result_divide = array2 / array1\n",
        "result_power = array1 ** 2\n",
        "\n",
        "print(\"Multiplication result:\", result_multiply)\n",
        "print(\"Division result:\", result_divide)\n",
        "print(\"Power result:\", result_power)\n",
        "\n",
        "# 5 Combine text with Numpy function\n",
        "text_output = np.array_str(result_multiply)\n",
        "print(f\"Addition of Two arrays: array1 + array2\\n{text_output}\")\n",
        "\n",
        "# 6 Implementing np.sin(), log(), log2(), np.exp()\n",
        "sin_values = np.sin(array1)\n",
        "log_values = np.log(array1)\n",
        "log2_values = np.log2(array1)\n",
        "exp_values = np.exp(array1)\n",
        "\n",
        "print(\"sin(array1):\", sin_values)\n",
        "print(\"log(array1):\", log_values)\n",
        "print(\"log2(array1):\", log2_values)\n",
        "print(\"exp(array1):\", exp_values)"
      ]
    }
  ]
}