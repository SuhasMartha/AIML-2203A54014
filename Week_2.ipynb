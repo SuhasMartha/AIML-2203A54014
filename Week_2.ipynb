{
  "nbformat": 4,
  "nbformat_minor": 0,
  "metadata": {
    "colab": {
      "provenance": []
    },
    "kernelspec": {
      "name": "python3",
      "display_name": "Python 3"
    },
    "language_info": {
      "name": "python"
    }
  },
  "cells": [
    {
      "cell_type": "code",
      "source": [
        "from collections import deque\n",
        "\n",
        "def bfs(graph, start):\n",
        "    visited = set()\n",
        "    queue = deque([start])\n",
        "\n",
        "    while queue:\n",
        "        vertex = queue.popleft()\n",
        "\n",
        "        if vertex not in visited:\n",
        "            print(vertex, end=' ')\n",
        "            visited.add(vertex)\n",
        "\n",
        "            queue.extend(neighbor for neighbor in graph[vertex] if neighbor not in visited)\n",
        "\n",
        "# Example graph represented as an adjacency list\n",
        "graph = {\n",
        "    1: [0,3],\n",
        "    0: [1,3],\n",
        "    2: [1,4,5,],\n",
        "    3: [0,1,4],\n",
        "    4: [3,2,5],\n",
        "    5: [2,4]\n",
        "}\n",
        "\n",
        "# Starting vertex\n",
        "start_vertex =1\n",
        "\n",
        "print(\"BFS Traversal:\")\n",
        "bfs(graph, start_vertex)"
      ],
      "metadata": {
        "colab": {
          "base_uri": "https://localhost:8080/"
        },
        "id": "mEZKymUd54uk",
        "outputId": "760ef402-185e-425e-b33a-abe32f724be0"
      },
      "execution_count": null,
      "outputs": [
        {
          "output_type": "stream",
          "name": "stdout",
          "text": [
            "BFS Traversal:\n",
            "1 0 3 4 2 5 "
          ]
        }
      ]
    },
    {
      "cell_type": "code",
      "source": [
        "def dfs(graph, start):\n",
        "    visited = set()\n",
        "    stack = [start]\n",
        "\n",
        "    while stack:\n",
        "        vertex = stack.pop()\n",
        "\n",
        "        if vertex not in visited:\n",
        "            print(vertex, end=' ')\n",
        "            visited.add(vertex)\n",
        "\n",
        "            stack.extend(neighbor for neighbor in graph[vertex] if neighbor not in visited)\n",
        "\n",
        "graph = {\n",
        "    1: [0, 3],\n",
        "    0: [1, 3],\n",
        "    2: [1, 4, 5],\n",
        "    3: [0, 1, 4],\n",
        "    4: [3, 2, 5],\n",
        "    5: [2, 4]\n",
        "}\n",
        "\n",
        "\n",
        "start_vertex = 1\n",
        "\n",
        "print(\"DFS Traversal:\")\n",
        "dfs(graph, start_vertex)\n"
      ],
      "metadata": {
        "colab": {
          "base_uri": "https://localhost:8080/"
        },
        "id": "m-ZDZUb87d61",
        "outputId": "50054aee-37c7-4c73-ae54-9066d4a7b9e5"
      },
      "execution_count": null,
      "outputs": [
        {
          "output_type": "stream",
          "name": "stdout",
          "text": [
            "DFS Traversal:\n",
            "1 3 4 5 2 0 "
          ]
        }
      ]
    },
    {
      "cell_type": "code",
      "source": [
        "def dfs(graph, start):\n",
        "    visited = set()\n",
        "    stack = [start]\n",
        "\n",
        "    while stack:\n",
        "        vertex = stack.pop()\n",
        "\n",
        "        if vertex not in visited:\n",
        "            print(vertex, end=' ')\n",
        "            visited.add(vertex)\n",
        "\n",
        "            stack.extend(neighbor for neighbor in graph[vertex] if neighbor not in visited)\n",
        "\n",
        "graph = {\n",
        "    'B': ['A'],\n",
        "    'A': ['B', 'S'],\n",
        "    'S': ['A', 'G','C'],\n",
        "    'G': ['S','F','H'],\n",
        "    'H': ['G','E'],\n",
        "    'E': ['C','H'],\n",
        "    'C': ['S','F','E','D'],\n",
        "    'D': ['C'],\n",
        "    'F': ['G','C'],\n",
        "}\n",
        "\n",
        "\n",
        "\n",
        "start_vertex ='B'\n",
        "\n",
        "print(\"DFS Traversal:\")\n",
        "dfs(graph, start_vertex)\n",
        "\n"
      ],
      "metadata": {
        "colab": {
          "base_uri": "https://localhost:8080/"
        },
        "id": "qw65NVfV7311",
        "outputId": "36f9a82d-3d1a-40d6-c4a1-5211d60c4415"
      },
      "execution_count": null,
      "outputs": [
        {
          "output_type": "stream",
          "name": "stdout",
          "text": [
            "DFS Traversal:\n",
            "B A S C D E H G F "
          ]
        }
      ]
    },
    {
      "cell_type": "code",
      "source": [
        "import numpy as np\n",
        "from heapq import heappop, heappush\n",
        "\n",
        "def manhattan_distance(state, goal):\n",
        "    distance = 0\n",
        "    for i in range(3):\n",
        "        for j in range(3):\n",
        "            if state[i, j] != goal[i, j]:\n",
        "                distance += abs(i - goal[i, j] // 3) + abs(j - goal[i, j] % 3)\n",
        "    return distance\n",
        "\n",
        "def a_star(initial_state, goal_state):\n",
        "    moves = [(-1, 0), (1, 0), (0, -1), (0, 1)]\n",
        "    priority_queue = [(manhattan_distance(initial_state, goal_state), 0, tuple(map(tuple, initial_state)))]\n",
        "    visited_states = set()\n",
        "\n",
        "    while priority_queue:\n",
        "        _, cost, current_state = heappop(priority_queue)\n",
        "\n",
        "        if np.array_equal(np.array(current_state), goal_state):\n",
        "            return cost\n",
        "\n",
        "        visited_states.add(current_state)\n",
        "\n",
        "        empty_tile = np.where(np.array(current_state) == 0)\n",
        "        empty_tile = (empty_tile[0][0], empty_tile[1][0])\n",
        "\n",
        "        for move in moves:\n",
        "            new_position = (empty_tile[0] + move[0], empty_tile[1] + move[1])\n",
        "\n",
        "            if 0 <= new_position[0] < 3 and 0 <= new_position[1] < 3:\n",
        "                new_state = [list(row) for row in current_state]\n",
        "                new_state[empty_tile[0]][empty_tile[1]], new_state[new_position[0]][new_position[1]] = \\\n",
        "                    new_state[new_position[0]][new_position[1]], new_state[empty_tile[0]][empty_tile[1]]\n",
        "\n",
        "                if tuple(map(tuple, new_state)) not in visited_states:\n",
        "                    new_cost = cost + 1\n",
        "                    heuristic = new_cost + manhattan_distance(np.array(new_state), goal_state)\n",
        "                    heappush(priority_queue, (heuristic, new_cost, tuple(map(tuple, new_state))))\n",
        "\n",
        "    return -1\n",
        "\n",
        "initial_state = np.array([[2, 8, 3], [1, 6, 4], [7, 0, 5]])\n",
        "goal_state = np.array([[1, 2, 3], [8, 0, 4], [7, 6, 5]])\n",
        "\n",
        "result = a_star(initial_state, goal_state)\n",
        "\n",
        "if result != -1:\n",
        "    print(f\"Minimum cost to reach the goal state: {result}\")\n",
        "else:\n",
        "    print(\"No solution found.\")\n"
      ],
      "metadata": {
        "colab": {
          "base_uri": "https://localhost:8080/"
        },
        "id": "WJMaS7Vu-zU0",
        "outputId": "28e721ef-7b99-4996-f7a8-310359d7d3cd"
      },
      "execution_count": null,
      "outputs": [
        {
          "output_type": "stream",
          "name": "stdout",
          "text": [
            "Minimum cost to reach the goal state: 5\n"
          ]
        }
      ]
    }
  ]
}